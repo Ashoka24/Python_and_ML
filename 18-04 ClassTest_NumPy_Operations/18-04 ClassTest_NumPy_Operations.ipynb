{
 "cells": [
  {
   "cell_type": "markdown",
   "metadata": {},
   "source": [
    "<h2><span style=\"color:red\">🚨 Run the below cell to install and import required packages</span></h2>\n"
   ]
  },
  {
   "cell_type": "code",
   "execution_count": 2,
   "metadata": {},
   "outputs": [
    {
     "name": "stdout",
     "output_type": "stream",
     "text": [
      "Processing c:\\users\\ashok\\onedrive\\desktop\\ashoka\\python_class_sure\\18-04 classtest_numpy_operations\\numpy_assignment_tests-0.1-py3-none-any.whl\n",
      "Installing collected packages: numpy-assignment-tests\n",
      "Successfully installed numpy-assignment-tests-0.1\n"
     ]
    }
   ],
   "source": [
    "!pip install numpy_assignment_tests-0.1-py3-none-any.whl --force-reinstall\n",
    "import numpy as np"
   ]
  },
  {
   "cell_type": "markdown",
   "metadata": {},
   "source": [
    "## 📝 **18th April NumPy Class Test - 45 Minute Duration**\n",
    "\n",
    "---\n",
    "\n",
    "### ✅ **Problem 1: Array Creation and Basic Operations**\n",
    "\n",
    "**Steps to solve:**\n",
    "\n",
    "1. Create a NumPy array of even numbers from 10 to 50 (inclusive).\n",
    "2. Multiply all elements of the array by 2 and store it in a new variable.\n",
    "3. Compute the sum of all elements in the doubled array.\n",
    "4. Reshape the doubled array into a 2D array with 5 rows and 4 columns.\n",
    "\n",
    "**Function Signature:**"
   ]
  },
  {
   "cell_type": "code",
   "execution_count": 95,
   "metadata": {},
   "outputs": [
    {
     "data": {
      "text/plain": [
       "array([10, 12, 14, 16, 18, 20, 22, 24, 26, 28, 30, 32, 34, 36, 38, 40, 42,\n",
       "       44, 46, 48])"
      ]
     },
     "execution_count": 95,
     "metadata": {},
     "output_type": "execute_result"
    }
   ],
   "source": [
    "arr = np.arange(10, 50, 2)\n",
    "arr"
   ]
  },
  {
   "cell_type": "code",
   "execution_count": 96,
   "metadata": {},
   "outputs": [
    {
     "data": {
      "text/plain": [
       "array([20, 24, 28, 32, 36, 40, 44, 48, 52, 56, 60, 64, 68, 72, 76, 80, 84,\n",
       "       88, 92, 96])"
      ]
     },
     "execution_count": 96,
     "metadata": {},
     "output_type": "execute_result"
    }
   ],
   "source": [
    "arr_doubled = arr * 2\n",
    "arr_doubled"
   ]
  },
  {
   "cell_type": "code",
   "execution_count": 97,
   "metadata": {},
   "outputs": [
    {
     "data": {
      "text/plain": [
       "np.int64(1160)"
      ]
     },
     "execution_count": 97,
     "metadata": {},
     "output_type": "execute_result"
    }
   ],
   "source": [
    "total = np.sum(arr_doubled)\n",
    "total"
   ]
  },
  {
   "cell_type": "code",
   "execution_count": 98,
   "metadata": {},
   "outputs": [
    {
     "data": {
      "text/plain": [
       "array([[20, 24, 28, 32],\n",
       "       [36, 40, 44, 48],\n",
       "       [52, 56, 60, 64],\n",
       "       [68, 72, 76, 80],\n",
       "       [84, 88, 92, 96]])"
      ]
     },
     "execution_count": 98,
     "metadata": {},
     "output_type": "execute_result"
    }
   ],
   "source": [
    "reshaped = arr_doubled.reshape([5, 4]) \n",
    "reshaped"
   ]
  },
  {
   "cell_type": "code",
   "execution_count": 99,
   "metadata": {},
   "outputs": [
    {
     "name": "stdout",
     "output_type": "stream",
     "text": [
      "(array([20, 24, 28, 32, 36, 40, 44, 48, 52, 56, 60, 64, 68, 72, 76, 80, 84,\n",
      "       88, 92, 96]), np.int64(1160), array([[20, 24, 28, 32],\n",
      "       [36, 40, 44, 48],\n",
      "       [52, 56, 60, 64],\n",
      "       [68, 72, 76, 80],\n",
      "       [84, 88, 92, 96]]))\n"
     ]
    }
   ],
   "source": [
    "def problem1():\n",
    "    a_np = np.arange(10, 50, 2)\n",
    "    arr_doubled=a_np*2\n",
    "    total=np.sum(arr_doubled)\n",
    "    reshaped=arr_doubled.reshape(5,4)\n",
    "    return arr_doubled, total, reshaped\n",
    "print(problem1())"
   ]
  },
  {
   "cell_type": "code",
   "execution_count": 100,
   "metadata": {},
   "outputs": [
    {
     "name": "stdout",
     "output_type": "stream",
     "text": [
      "[✔] Problem 1 Passed — Score: 8/20\n"
     ]
    }
   ],
   "source": [
    "try:\n",
    "    from numpy_assignment_tests import test\n",
    "    test.test_problem1(problem1)\n",
    "except:\n",
    "    print(\"Try Again!\")"
   ]
  },
  {
   "cell_type": "markdown",
   "metadata": {},
   "source": [
    "\n",
    "---\n",
    "\n",
    "### ✅ **Problem 2: Indexing and Slicing**\n",
    "\n",
    "**Steps to solve:**\n",
    "\n",
    "1. Create a 5x5 NumPy array with numbers from 1 to 25 (row-wise).\n",
    "2. Extract the 2nd and 4th rows (index 1 and 3).\n",
    "3. Extract the 3rd column (index 2).\n",
    "4. Extract a subarray from rows 2 to 4 and columns 2 to 5.\n",
    "\n",
    "**Function Signature:**"
   ]
  },
  {
   "cell_type": "code",
   "execution_count": 26,
   "metadata": {},
   "outputs": [
    {
     "data": {
      "text/plain": [
       "array([[ 1,  2,  3,  4,  5],\n",
       "       [ 6,  7,  8,  9, 10],\n",
       "       [11, 12, 13, 14, 15],\n",
       "       [16, 17, 18, 19, 20],\n",
       "       [21, 22, 23, 24, 25]])"
      ]
     },
     "execution_count": 26,
     "metadata": {},
     "output_type": "execute_result"
    }
   ],
   "source": [
    "arr = np.arange(1, 26).reshape(5, 5)\n",
    "arr\n"
   ]
  },
  {
   "cell_type": "code",
   "execution_count": 28,
   "metadata": {},
   "outputs": [
    {
     "data": {
      "text/plain": [
       "array([[ 6,  7,  8,  9, 10],\n",
       "       [16, 17, 18, 19, 20]])"
      ]
     },
     "execution_count": 28,
     "metadata": {},
     "output_type": "execute_result"
    }
   ],
   "source": [
    "rows = arr[[1, 3]]\n",
    "rows"
   ]
  },
  {
   "cell_type": "code",
   "execution_count": 31,
   "metadata": {},
   "outputs": [
    {
     "data": {
      "text/plain": [
       "array([ 3,  8, 13, 18, 23])"
      ]
     },
     "execution_count": 31,
     "metadata": {},
     "output_type": "execute_result"
    }
   ],
   "source": [
    "col = arr[:, 2]\n",
    "col"
   ]
  },
  {
   "cell_type": "code",
   "execution_count": 30,
   "metadata": {},
   "outputs": [
    {
     "data": {
      "text/plain": [
       "array([[13, 14, 15],\n",
       "       [18, 19, 20],\n",
       "       [23, 24, 25]])"
      ]
     },
     "execution_count": 30,
     "metadata": {},
     "output_type": "execute_result"
    }
   ],
   "source": [
    "subarray = arr[2:5, 2:5]\n",
    "subarray"
   ]
  },
  {
   "cell_type": "code",
   "execution_count": null,
   "metadata": {},
   "outputs": [],
   "source": [
    "def problem2():\n",
    "    arr = np.arange(1, 26).reshape(5, 5)\n",
    "    rows = arr[[1, 3]]\n",
    "    col = arr[:, 2]\n",
    "    subarray = arr[2:5, 2:5]\n",
    "    return rows, col, subarray"
   ]
  },
  {
   "cell_type": "code",
   "execution_count": 33,
   "metadata": {},
   "outputs": [
    {
     "name": "stdout",
     "output_type": "stream",
     "text": [
      "[✔] Problem 2 Passed — Score: 20/20\n"
     ]
    }
   ],
   "source": [
    "try:\n",
    "    from numpy_assignment_tests import test\n",
    "    test.test_problem2(problem2)\n",
    "except:\n",
    "    print(\"Try Again!\")"
   ]
  },
  {
   "cell_type": "markdown",
   "metadata": {},
   "source": [
    "---\n",
    "\n",
    "### ✅ **Problem 3: Boolean Masking and Conditional Operations**\n",
    "\n",
    "**Steps to solve:**\n",
    "\n",
    "1. Create a NumPy array of integers from 1 to 20.\n",
    "2. Use boolean masking to extract all numbers divisible by 3.\n",
    "3. Replace all numbers greater than 15 in the original array with -1.\n",
    "\n",
    "**Function Signature:**"
   ]
  },
  {
   "cell_type": "code",
   "execution_count": 37,
   "metadata": {},
   "outputs": [
    {
     "data": {
      "text/plain": [
       "array([ 1,  2,  3,  4,  5,  6,  7,  8,  9, 10, 11, 12, 13, 14, 15, 16, 17,\n",
       "       18, 19, 20])"
      ]
     },
     "execution_count": 37,
     "metadata": {},
     "output_type": "execute_result"
    }
   ],
   "source": [
    "arr = np.arange(1, 21)\n",
    "arr"
   ]
  },
  {
   "cell_type": "code",
   "execution_count": 43,
   "metadata": {},
   "outputs": [
    {
     "data": {
      "text/plain": [
       "array([ 3,  6,  9, 12, 15, 18])"
      ]
     },
     "execution_count": 43,
     "metadata": {},
     "output_type": "execute_result"
    }
   ],
   "source": [
    "divisible_by_3 = arr[arr % 3 == 0]\n",
    "divisible_by_3"
   ]
  },
  {
   "cell_type": "code",
   "execution_count": null,
   "metadata": {},
   "outputs": [
    {
     "data": {
      "text/plain": [
       "array([ 1,  2,  3,  4,  5,  6,  7,  8,  9, 10, 11, 12, 13, 14, 15, -1, -1,\n",
       "       -1, -1, -1])"
      ]
     },
     "execution_count": 46,
     "metadata": {},
     "output_type": "execute_result"
    }
   ],
   "source": [
    "replaced_array = arr.copy()\n",
    "replaced_array[replaced_array > 15] = -1\n",
    "replaced_array\n",
    "\n"
   ]
  },
  {
   "cell_type": "code",
   "execution_count": 48,
   "metadata": {},
   "outputs": [
    {
     "name": "stdout",
     "output_type": "stream",
     "text": [
      "(array([ 3,  6,  9, 12, 15, 18]), array([ 1,  2,  3,  4,  5,  6,  7,  8,  9, 10, 11, 12, 13, 14, 15, -1, -1,\n",
      "       -1, -1, -1]))\n"
     ]
    }
   ],
   "source": [
    "def problem3():\n",
    "    arr = np.arange(1, 21)\n",
    "    divisible_by_3 = arr[arr % 3 == 0]\n",
    "    replaced_array = arr.copy()\n",
    "    replaced_array[replaced_array > 15] = -1\n",
    "    return divisible_by_3, replaced_array\n",
    "print(problem3())"
   ]
  },
  {
   "cell_type": "code",
   "execution_count": 49,
   "metadata": {},
   "outputs": [
    {
     "name": "stdout",
     "output_type": "stream",
     "text": [
      "[✔] Problem 3 Passed — Score: 20/20\n"
     ]
    }
   ],
   "source": [
    "try:\n",
    "    from numpy_assignment_tests import test\n",
    "    test.test_problem3(problem3)\n",
    "except:\n",
    "    print(\"Try Again!\")"
   ]
  },
  {
   "cell_type": "markdown",
   "metadata": {},
   "source": [
    "---\n",
    "\n",
    "### ✅ **Problem 4: Aggregate Functions and Axis Operations**\n",
    "\n",
    "**Steps to solve:**\n",
    "\n",
    "1. Create a 4x4 NumPy array with values from 1 to 16.\n",
    "2. Calculate the mean of each row.\n",
    "3. Calculate the sum of each column.\n",
    "\n",
    "**Function Signature:**"
   ]
  },
  {
   "cell_type": "code",
   "execution_count": 50,
   "metadata": {},
   "outputs": [
    {
     "data": {
      "text/plain": [
       "array([[ 1,  2,  3,  4],\n",
       "       [ 5,  6,  7,  8],\n",
       "       [ 9, 10, 11, 12],\n",
       "       [13, 14, 15, 16]])"
      ]
     },
     "execution_count": 50,
     "metadata": {},
     "output_type": "execute_result"
    }
   ],
   "source": [
    "arr = np.arange(1, 17).reshape(4, 4)\n",
    "arr"
   ]
  },
  {
   "cell_type": "code",
   "execution_count": null,
   "metadata": {},
   "outputs": [
    {
     "data": {
      "text/plain": [
       "array([ 2.5,  6.5, 10.5, 14.5])"
      ]
     },
     "execution_count": 51,
     "metadata": {},
     "output_type": "execute_result"
    }
   ],
   "source": [
    "row_means = np.mean(arr, axis=1) \n",
    "row_means"
   ]
  },
  {
   "cell_type": "code",
   "execution_count": 53,
   "metadata": {},
   "outputs": [
    {
     "data": {
      "text/plain": [
       "array([28, 32, 36, 40])"
      ]
     },
     "execution_count": 53,
     "metadata": {},
     "output_type": "execute_result"
    }
   ],
   "source": [
    "col_sums = np.sum(arr, axis=0)\n",
    "col_sums"
   ]
  },
  {
   "cell_type": "code",
   "execution_count": 54,
   "metadata": {},
   "outputs": [
    {
     "name": "stdout",
     "output_type": "stream",
     "text": [
      "(array([ 2.5,  6.5, 10.5, 14.5]), array([28, 32, 36, 40]))\n"
     ]
    }
   ],
   "source": [
    "def problem4():\n",
    "    arr = np.arange(1, 17).reshape(4, 4)\n",
    "    row_means = np.mean(arr, axis=1)\n",
    "    col_sums = np.sum(arr, axis=0)\n",
    "    return row_means, col_sums\n",
    "print(problem4())"
   ]
  },
  {
   "cell_type": "code",
   "execution_count": 55,
   "metadata": {},
   "outputs": [
    {
     "name": "stdout",
     "output_type": "stream",
     "text": [
      "[✔] Problem 4 Passed — Score: 20/20\n"
     ]
    }
   ],
   "source": [
    "try:\n",
    "    from numpy_assignment_tests import test\n",
    "    test.test_problem4(problem4)\n",
    "except:\n",
    "    print(\"Try Again!\")"
   ]
  },
  {
   "cell_type": "markdown",
   "metadata": {},
   "source": [
    "---\n",
    "\n",
    "### ✅ **Problem 5: Stacking and Splitting Arrays**\n",
    "\n",
    "**Steps to solve:**\n",
    "\n",
    "1. Create two NumPy arrays: `a = [1, 2, 3]`, `b = [4, 5, 6]`.\n",
    "2. Stack them vertically and horizontally.\n",
    "3. Split the horizontal stacked array into two equal parts.\n",
    "\n",
    "**Function Signature:**"
   ]
  },
  {
   "cell_type": "code",
   "execution_count": 57,
   "metadata": {},
   "outputs": [
    {
     "data": {
      "text/plain": [
       "(array([1, 2, 3]), array([4, 5, 6]))"
      ]
     },
     "execution_count": 57,
     "metadata": {},
     "output_type": "execute_result"
    }
   ],
   "source": [
    "a = np.array([1, 2, 3])\n",
    "b = np.array([4, 5, 6])\n",
    "a,b"
   ]
  },
  {
   "cell_type": "code",
   "execution_count": 62,
   "metadata": {},
   "outputs": [
    {
     "data": {
      "text/plain": [
       "(array([[1, 2, 3],\n",
       "        [4, 5, 6]]),\n",
       " array([1, 2, 3, 4, 5, 6]))"
      ]
     },
     "execution_count": 62,
     "metadata": {},
     "output_type": "execute_result"
    }
   ],
   "source": [
    "vstacked = np.vstack((a, b))       \n",
    "hstacked = np.hstack((a, b))  \n",
    "vstacked, hstacked"
   ]
  },
  {
   "cell_type": "code",
   "execution_count": null,
   "metadata": {},
   "outputs": [
    {
     "data": {
      "text/plain": [
       "[array([1, 2, 3]), array([4, 5, 6])]"
      ]
     },
     "execution_count": 61,
     "metadata": {},
     "output_type": "execute_result"
    }
   ],
   "source": [
    "split_arrays = np.split(h_stack, 2) \n",
    "split_arrays\n"
   ]
  },
  {
   "cell_type": "code",
   "execution_count": 64,
   "metadata": {},
   "outputs": [
    {
     "name": "stdout",
     "output_type": "stream",
     "text": [
      "(array([[1, 2, 3],\n",
      "       [4, 5, 6]]), array([1, 2, 3, 4, 5, 6]), [array([1, 2, 3]), array([4, 5, 6])])\n"
     ]
    }
   ],
   "source": [
    "def problem5():\n",
    "    a = np.array([1, 2, 3])\n",
    "    b = np.array([4, 5, 6])\n",
    "    vstacked = np.vstack((a, b))       \n",
    "    hstacked= np.hstack((a, b)) \n",
    "    split_arrays = np.split(hstacked, 2)\n",
    "    return vstacked, hstacked, split_arrays\n",
    "print(problem5())"
   ]
  },
  {
   "cell_type": "code",
   "execution_count": 65,
   "metadata": {},
   "outputs": [
    {
     "name": "stdout",
     "output_type": "stream",
     "text": [
      "[✔] Problem 5 Passed — Score: 20/20\n"
     ]
    }
   ],
   "source": [
    "try:\n",
    "    from numpy_assignment_tests import test\n",
    "    test.test_problem5(problem5)\n",
    "except:\n",
    "    print(\"Try Again!\")"
   ]
  },
  {
   "cell_type": "markdown",
   "metadata": {},
   "source": [
    "<h3><span style=\"color:red\">🚨 Run the below cell to execute all test cases and get the final score</span></h3>\n"
   ]
  },
  {
   "cell_type": "code",
   "execution_count": 67,
   "metadata": {},
   "outputs": [
    {
     "name": "stdout",
     "output_type": "stream",
     "text": [
      "=== NumPy Assignment Evaluation ===\n",
      "[✔] Problem 1 Passed — Score: 8/20\n",
      "[✔] Problem 2 Passed — Score: 20/20\n",
      "[✔] Problem 3 Passed — Score: 20/20\n",
      "[✔] Problem 4 Passed — Score: 20/20\n",
      "[✔] Problem 5 Passed — Score: 20/20\n",
      "\n",
      "🏁 Final Score: 88/100\n"
     ]
    }
   ],
   "source": [
    "## DO NOT MODIFY ##\n",
    "try:\n",
    "    from numpy_assignment_tests import test\n",
    "    student_name = input(\"Enter your full name: \").strip()\n",
    "    test.run_all_tests({\n",
    "        \"problem1\": problem1,\n",
    "        \"problem2\": problem2,\n",
    "        \"problem3\": problem3,\n",
    "        \"problem4\": problem4,\n",
    "        \"problem5\": problem5\n",
    "    }, student_name)\n",
    "except:\n",
    "    print(\"Check again and complete all the questions completely!!\")"
   ]
  }
 ],
 "metadata": {
  "colab": {
   "provenance": []
  },
  "kernelspec": {
   "display_name": "Python 3",
   "language": "python",
   "name": "python3"
  },
  "language_info": {
   "codemirror_mode": {
    "name": "ipython",
    "version": 3
   },
   "file_extension": ".py",
   "mimetype": "text/x-python",
   "name": "python",
   "nbconvert_exporter": "python",
   "pygments_lexer": "ipython3",
   "version": "3.10.11"
  }
 },
 "nbformat": 4,
 "nbformat_minor": 1
}
