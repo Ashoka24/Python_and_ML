{
 "cells": [
  {
   "cell_type": "markdown",
   "metadata": {
    "id": "8hjlpv4ix8LQ"
   },
   "source": [
    "# <center><u>Dream Premier League (DPL)</u>\n",
    "### A match of DPL is going on. Team Aravali has a made score of **195** for **7** in **20** overs and the opponent Team Shivalik is doing some analytics to find out what they need to do to win. You are the Data Scientist of the Team Shivalik and you have been asked to help them."
   ]
  },
  {
   "cell_type": "markdown",
   "metadata": {
    "id": "JkqzpQzX54Z-"
   },
   "source": [
    "## <u>Problem 1</u>\n",
    "\n",
    "### Team Shivalik has stored the runs made by Team Aravali players in the following dictionary.\n",
    "\n"
   ]
  },
  {
   "cell_type": "code",
   "execution_count": 7,
   "metadata": {
    "id": "rypcBaB37JMD"
   },
   "outputs": [],
   "source": [
    "aravali ={ \"Dhoni\":25, \"Virat\":31, \"Pollard\":11, \"Rohit\": 0, \"Maxwell\":12, \"Sachin\":59, \"Sehwag\":12 }"
   ]
  },
  {
   "cell_type": "markdown",
   "metadata": {
    "id": "747H1msbg-ns"
   },
   "source": [
    "### Get the list of all players in Team Aravali"
   ]
  },
  {
   "cell_type": "code",
   "execution_count": 8,
   "metadata": {
    "id": "poP0TCGdhLuj"
   },
   "outputs": [
    {
     "name": "stdout",
     "output_type": "stream",
     "text": [
      "['Dhoni', 'Virat', 'Pollard', 'Rohit', 'Maxwell', 'Sachin', 'Sehwag']\n"
     ]
    }
   ],
   "source": [
    "# Get the list of players in Team Aravali\n",
    "players_list = list(aravali.keys())\n",
    "print(players_list)\n"
   ]
  },
  {
   "cell_type": "markdown",
   "metadata": {
    "id": "YypMEr-i7fCE"
   },
   "source": [
    "## <u>Problem 2</u>\n",
    "\n",
    "### By mistake, the runs made by Rohit was recorded as <code>0</code>. Your next task is to figure out how many runs were made by Rohit and update the dictionary"
   ]
  },
  {
   "cell_type": "code",
   "execution_count": 18,
   "metadata": {},
   "outputs": [],
   "source": [
    "\n",
    "correct_runs = 45\n",
    "aravali['Rohit'] = correct_runs"
   ]
  },
  {
   "cell_type": "code",
   "execution_count": 19,
   "metadata": {
    "id": "N46LGzE97waZ"
   },
   "outputs": [
    {
     "name": "stdout",
     "output_type": "stream",
     "text": [
      "Updated runs: {'Dhoni': 25, 'Virat': 31, 'Pollard': 11, 'Rohit': 45, 'Maxwell': 12, 'Sachin': 59, 'Sehwag': 12}\n"
     ]
    }
   ],
   "source": [
    "# Print runs scored by Rohit    \n",
    "print(\"Updated runs:\", aravali)"
   ]
  },
  {
   "cell_type": "code",
   "execution_count": 20,
   "metadata": {
    "id": "4rTAegi67zOq"
   },
   "outputs": [
    {
     "data": {
      "text/plain": [
       "{'Dhoni': 25,\n",
       " 'Virat': 31,\n",
       " 'Pollard': 11,\n",
       " 'Rohit': 45,\n",
       " 'Maxwell': 12,\n",
       " 'Sachin': 59,\n",
       " 'Sehwag': 12}"
      ]
     },
     "execution_count": 20,
     "metadata": {},
     "output_type": "execute_result"
    }
   ],
   "source": [
    "# Update the dictionary with correct value of runs\n",
    "aravali"
   ]
  },
  {
   "cell_type": "markdown",
   "metadata": {
    "id": "iM1FJFlWh7C5"
   },
   "source": [
    "## <u>Problem 4</u>\n",
    "\n",
    "#### Your next task is to find out who scored the second highest runs in Team Aravali"
   ]
  },
  {
   "cell_type": "code",
   "execution_count": 21,
   "metadata": {
    "id": "YPdfTlsKiWVx"
   },
   "outputs": [
    {
     "name": "stdout",
     "output_type": "stream",
     "text": [
      "The player who scored the second highest runs is Rohit with 45 runs.\n"
     ]
    }
   ],
   "source": [
    "# Your code below\n",
    "sorted_runs = sorted(aravali.values(), reverse=True) \n",
    "\n",
    "# The second highest run\n",
    "second_highest_run = sorted_runs[1]\n",
    "\n",
    "# Find the player who scored the second highest\n",
    "for player, runs in aravali.items():\n",
    "    if runs == second_highest_run:\n",
    "        print(f\"The player who scored the second highest runs is {player} with {runs} runs.\")\n",
    "        break\n"
   ]
  },
  {
   "cell_type": "markdown",
   "metadata": {
    "id": "se80XQGBGekX"
   },
   "source": [
    "## <u>Problem 4</u>\n",
    "\n",
    "#### Just out of curiosity, you want to find out the unique runs made by Team Aravali players."
   ]
  },
  {
   "cell_type": "code",
   "execution_count": null,
   "metadata": {
    "id": "X-XQWW4lGZaG"
   },
   "outputs": [],
   "source": [
    "# Your code below\n",
    "run_set = set(aravali.values())\n"
   ]
  },
  {
   "cell_type": "code",
   "execution_count": 25,
   "metadata": {
    "id": "GL56nYUzF6hs"
   },
   "outputs": [
    {
     "data": {
      "text/plain": [
       "{11, 12, 25, 31, 45, 59}"
      ]
     },
     "execution_count": 25,
     "metadata": {},
     "output_type": "execute_result"
    }
   ],
   "source": [
    "# Print the unique runs\n",
    "run_set"
   ]
  },
  {
   "cell_type": "markdown",
   "metadata": {
    "id": "IJvnHaNzeGMP"
   },
   "source": [
    "## <u>Problem 5</u>\n",
    "#### Team Shivalik has 6 fixed players and 5 slots for players who are playing good currently. Create two collections using appropriate data structure to write this 6 fixed and 5 mutable players. You can choose any player you want.\n",
    "\n",
    "#### Available Players in the squad :\n",
    "<code>['Vijay', 'Lasith', 'Dravid', 'Smith', 'Ambati', 'Hardik', 'Sushant', 'Mandeep', 'Harbhajan', 'Yuvraj', 'Jadeja','Rajeev','Amrit']\n"
   ]
  },
  {
   "cell_type": "code",
   "execution_count": 4,
   "metadata": {
    "id": "-0hTOMTQdEXE"
   },
   "outputs": [],
   "source": [
    "# Your code below\n",
    "available_players = ['Vijay', 'Lasith', 'Dravid', 'Smith', 'Ambati', 'Hardik', \n",
    "                     'Sushant', 'Mandeep', 'Harbhajan', 'Yuvraj', 'Jadeja', 'Rajeev', 'Amrit']\n",
    "\n",
    "# Fixed players (tuple - immutable)\n",
    "fixed_players = ('Vijay', 'Dravid', 'Hardik', 'Smith', 'Yuvraj', 'Jadeja')\n",
    "\n",
    "# Mutable players (list - current good form players)\n",
    "mutable_players = ['Lasith', 'Ambati', 'Sushant', 'Mandeep', 'Harbhajan']\n"
   ]
  },
  {
   "cell_type": "code",
   "execution_count": 5,
   "metadata": {
    "id": "1PEvrGDwfjc5"
   },
   "outputs": [
    {
     "name": "stdout",
     "output_type": "stream",
     "text": [
      "Fixed players (immutable): ('Vijay', 'Dravid', 'Hardik', 'Smith', 'Yuvraj', 'Jadeja')\n",
      "Mutable players (in current form): ['Lasith', 'Ambati', 'Sushant', 'Mandeep', 'Harbhajan']\n"
     ]
    }
   ],
   "source": [
    "# Print them on same line using comma to seperate them\n",
    "print(\"Fixed players (immutable):\", fixed_players)\n",
    "print(\"Mutable players (in current form):\", mutable_players)"
   ]
  },
  {
   "cell_type": "markdown",
   "metadata": {
    "id": "N-VdT09NfhL6"
   },
   "source": [
    "## <u>Problem 6</u>\n",
    "Try changing fixed player and mutable player"
   ]
  },
  {
   "cell_type": "code",
   "execution_count": 6,
   "metadata": {
    "id": "E4lN-bxbffnF"
   },
   "outputs": [],
   "source": [
    "# Change fixed player\n",
    "fixed_players = ['Lasith', 'Ambati', 'Sushant', 'Mandeep', 'Harbhajan']\n",
    "# Change mutable player\n",
    "mutable_players =('Vijay', 'Dravid', 'Hardik', 'Smith', 'Yuvraj', 'Jadeja')\n"
   ]
  },
  {
   "cell_type": "code",
   "execution_count": null,
   "metadata": {
    "id": "mbfWHggRgYJK"
   },
   "outputs": [
    {
     "name": "stdout",
     "output_type": "stream",
     "text": [
      "Updated Fixed Players: ('Vijay', 'Lasith', 'Dravid', 'Smith', 'Yuvraj', 'Jadeja')\n",
      "Updated Mutable Players: ['Rajeev', 'Dravid', 'Hardik', 'Smith', 'Amrit', 'Jadeja']\n"
     ]
    }
   ],
   "source": [
    "\n",
    "mutable_players_list = list(mutable_players)\n",
    "mutable_players_list[0] = 'Rajeev'\n",
    "mutable_players_list[4] = 'Amrit'\n",
    "\n",
    "fixed_players = ('Vijay', 'Lasith', 'Dravid', 'Smith', 'Yuvraj', 'Jadeja')\n",
    "\n",
    "print(\"Updated Fixed Players:\", fixed_players)\n",
    "print(\"Updated Mutable Players:\", mutable_players_list)"
   ]
  },
  {
   "cell_type": "markdown",
   "metadata": {
    "id": "KHrH5V0HFFhq"
   },
   "source": [
    "## <u> Problem 7</u>\n",
    "\n",
    "#### Find out the runrate required for Team Shivalik to win (for 20 overs)<br>\n",
    "#### Hint: Runrate is runs required per over to win the match"
   ]
  },
  {
   "cell_type": "code",
   "execution_count": 33,
   "metadata": {
    "id": "QFd1CnS5E79X"
   },
   "outputs": [],
   "source": [
    "# Your code here\n",
    "runs_required = 195\n",
    "\n",
    "# Overs left (in a 20-over match scenario)\n",
    "overs_left = 20\n",
    "\n",
    "# Calculate run rate\n",
    "runrate = runs_required / overs_left\n"
   ]
  },
  {
   "cell_type": "code",
   "execution_count": 34,
   "metadata": {
    "id": "7f5Mnj93Ft3a"
   },
   "outputs": [
    {
     "name": "stdout",
     "output_type": "stream",
     "text": [
      "The run rate for Team Shivalik to win is: 9.75 runs per over.\n"
     ]
    }
   ],
   "source": [
    "# Print the run rate\n",
    "print(f\"The run rate for Team Shivalik to win is: {runrate:.2f} runs per over.\")"
   ]
  },
  {
   "cell_type": "markdown",
   "metadata": {
    "id": "uukQzwZQNwBE"
   },
   "source": [
    "## <u> Problem 8</u>\n",
    "#### You have just received a secret message form your informant stating that some players of the other team are into match fixing. You have to decode a message and inform authorities about it.<br>\n",
    "\n",
    "#### You received a string **\"skdlfjnvuerhw qefnnaosfu qrhviudhfv wuirhv adknlkxjcier vafuvhkajn iuvhsf vasuif KJSHFKJ aeuihvasf akjfhiufe\"** and index of \"i\" are going to be \"no balls\".\n",
    "\n",
    "\n",
    "### Find the first and last no ball from the string."
   ]
  },
  {
   "cell_type": "code",
   "execution_count": 41,
   "metadata": {
    "id": "qJpki-fNJxvr"
   },
   "outputs": [
    {
     "name": "stdout",
     "output_type": "stream",
     "text": [
      "[29, 38, 52, 67, 78, 92, 104]\n"
     ]
    }
   ],
   "source": [
    "#First no ball\n",
    "message = \"skdlfjnvuerhw qefnnaosfu qrhviudhfv wuirhv adknlkxjcier vafuvhkajn iuvhsf vasuif KJSHFKJ aeuihvasf akjfhiufe\"\n",
    "\n",
    "no_balls = [index for index, char in enumerate(message) if char == 'i']\n",
    "print(no_balls)\n",
    "# First and last no ball positions\n",
    "first_no_ball = no_balls[0]\n",
    "\n",
    "# Last no ball\n",
    "last_no_ball = no_balls[-1]"
   ]
  },
  {
   "cell_type": "code",
   "execution_count": null,
   "metadata": {
    "id": "8qMvmZydQAlr"
   },
   "outputs": [
    {
     "name": "stdout",
     "output_type": "stream",
     "text": [
      "First no ball is at index: 29\n",
      "Last no ball is at index: 104\n"
     ]
    }
   ],
   "source": [
    "# Print the first and last ball numbers\n",
    "print(f\"First no ball is at index: {first_no_ball}\")\n",
    "print(f\"Last no ball is at index: {last_no_ball}\")"
   ]
  },
  {
   "cell_type": "markdown",
   "metadata": {
    "id": "dOIGKmlKaV8j"
   },
   "source": [
    "## <u>Problem 9</u>\n",
    "\n",
    "### You have given the information about fixing to the authorities and they are going to verify it during the match. But still you have to work on your strategy.\n",
    "\n",
    "### It is in your hands to automate the decision on who goes on 4th position for batting depending on following criteria:\n",
    "\n",
    "* if runs made by Team Shivalik is less than 50, Smith will play\n",
    "* if runs are between 51 to 100 then Sir Jadeja will go\n",
    "* if runs are above 100 then Hardik will play"
   ]
  },
  {
   "cell_type": "code",
   "execution_count": null,
   "metadata": {
    "id": "DpnGURU1Y-Af"
   },
   "outputs": [
    {
     "name": "stdout",
     "output_type": "stream",
     "text": [
      "Hardik will go to bat at the 4th position.\n"
     ]
    }
   ],
   "source": [
    "# Your code below\n",
    "runs_made = int(input(\"Enter the runs made by Team Shivalik: \"))\n",
    "\n",
    "# Decision logic\n",
    "if runs_made < 50:\n",
    "    player = \"Smith\"\n",
    "elif 51 <= runs_made <= 100:\n",
    "    player = \"Sir Jadeja\"\n",
    "else:\n",
    "    player = \"Hardik\"\n",
    "\n",
    "print(f\"{player} will go to bat at the 4th position.\")\n",
    "B_runs = int(input())\n",
    "\n"
   ]
  },
  {
   "cell_type": "markdown",
   "metadata": {
    "id": "kLakmjOYmKMM"
   },
   "source": [
    "# Hurray! Turns out you won the match and the guilty players are punished as well. You should be proud of yourself!"
   ]
  },
  {
   "cell_type": "code",
   "execution_count": null,
   "metadata": {
    "id": "8xRCkwJ76n_I"
   },
   "outputs": [],
   "source": []
  }
 ],
 "metadata": {
  "colab": {
   "provenance": []
  },
  "kernelspec": {
   "display_name": "Python 3",
   "language": "python",
   "name": "python3"
  },
  "language_info": {
   "codemirror_mode": {
    "name": "ipython",
    "version": 3
   },
   "file_extension": ".py",
   "mimetype": "text/x-python",
   "name": "python",
   "nbconvert_exporter": "python",
   "pygments_lexer": "ipython3",
   "version": "3.10.11"
  }
 },
 "nbformat": 4,
 "nbformat_minor": 1
}
