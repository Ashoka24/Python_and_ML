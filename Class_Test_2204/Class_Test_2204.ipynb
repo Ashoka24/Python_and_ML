{
 "cells": [
  {
   "cell_type": "markdown",
   "id": "b643b65e",
   "metadata": {},
   "source": [
    "Write a Python program that takes a sentence as input and returns a dictionary where the \n",
    "keys are vowels and the values are the number of times each vowel appears in the sentence. \n",
    "Ignore case. \n",
    "Example Input: \"Education is important\" \n",
    "Expected Output: {'a': 2, 'e': 1, 'i': 2, 'o': 1, 'u': 1} "
   ]
  },
  {
   "cell_type": "code",
   "execution_count": null,
   "id": "7abd656c",
   "metadata": {},
   "outputs": [],
   "source": [
    "def count_vowels(sentence): \n",
    "    vowels = \"aeiou\"\n",
    "    sentence = sentence.lower()\n",
    "    vowel_count = {}\n",
    "\n",
    "    for char in sentence:\n",
    "        if char in vowels:\n",
    "            vowel_count[char] = vowel_count.get(char, 0) + 1\n",
    "\n",
    "    return vowel_count"
   ]
  },
  {
   "cell_type": "code",
   "execution_count": 2,
   "id": "c871bb8d",
   "metadata": {},
   "outputs": [
    {
     "name": "stdout",
     "output_type": "stream",
     "text": [
      "{'e': 1, 'u': 1, 'a': 2, 'i': 3, 'o': 2}\n"
     ]
    }
   ],
   "source": [
    "input_sentence = \"Education is important\"\n",
    "result = count_vowels(input_sentence)\n",
    "print(result)"
   ]
  },
  {
   "cell_type": "markdown",
   "id": "aa7e0045",
   "metadata": {},
   "source": [
    "Write a function that checks if a given number is a palindrome. Then write another function \n",
    "that prints all palindrome numbers between two given numbers (inclusive).\n",
    "Example Input: start = 100, end = 150\n",
    "Expected Output: 101 111 121 131 141"
   ]
  },
  {
   "cell_type": "code",
   "execution_count": 13,
   "id": "ea2ea446",
   "metadata": {},
   "outputs": [],
   "source": [
    "def is_palindrome(num):\n",
    "    return str(num) == str(num)[::-1]"
   ]
  },
  {
   "cell_type": "code",
   "execution_count": 14,
   "id": "7557f73e",
   "metadata": {},
   "outputs": [
    {
     "name": "stdout",
     "output_type": "stream",
     "text": [
      "202 212 222 232 242 "
     ]
    }
   ],
   "source": [
    "def print_palindromes(start, end):\n",
    "    for number in range(start, end + 1):\n",
    "        if is_palindrome(number):\n",
    "            print(number, end=\" \")\n",
    "print_palindromes(200,250)\n"
   ]
  },
  {
   "cell_type": "code",
   "execution_count": 7,
   "id": "7010d91c",
   "metadata": {},
   "outputs": [
    {
     "name": "stdout",
     "output_type": "stream",
     "text": [
      "101 111 121 131 141 "
     ]
    }
   ],
   "source": [
    "print_palindromes(100,150)"
   ]
  },
  {
   "cell_type": "markdown",
   "id": "f0475d32",
   "metadata": {},
   "source": [
    "Q3. Create a class Employee with attributes emp_id, name, and salary. Write methods to:\n",
    "• Display employee details\n",
    "• Write the details to a file named employee_data.txt in CSV format\n",
    "• Read from the file and display the content"
   ]
  },
  {
   "cell_type": "code",
   "execution_count": null,
   "id": "eaa2354a",
   "metadata": {},
   "outputs": [],
   "source": [
    "import csv\n",
    "\n",
    "class Employee:\n",
    "    def __init__(self, emp_id, name, salary):\n",
    "        self.emp_id = emp_id\n",
    "        self.name = name\n",
    "        self.salary = salary"
   ]
  },
  {
   "cell_type": "code",
   "execution_count": null,
   "id": "10de2026",
   "metadata": {},
   "outputs": [],
   "source": [
    "def display(self):\n",
    "        print(f\"ID: {self.emp_id}, Name: {self.name}, Salary: {self.salary}\")\n",
    "\n",
    "def write_to_file(self, filename=\"employee_data.txt\"):\n",
    "        with open(filename, mode='a', newline='') as file:\n",
    "            writer = csv.writer(file)\n",
    "            writer.writerow([self.emp_id, self.name, self.salary])\n"
   ]
  },
  {
   "cell_type": "code",
   "execution_count": 64,
   "id": "019cd391",
   "metadata": {},
   "outputs": [],
   "source": [
    "@staticmethod\n",
    "def read_from_file(filename=\"employee_data.txt\"):\n",
    "        print(\"\\nEmployee Records:\")\n",
    "        with open(filename, mode='r') as file:\n",
    "            reader = csv.reader(file)\n",
    "            for row in reader:\n",
    "                print(f\"ID: {row[0]}, Name: {row[1]}, Salary: {row[2]}\")\n"
   ]
  },
  {
   "cell_type": "code",
   "execution_count": 65,
   "id": "7e23f94d",
   "metadata": {},
   "outputs": [
    {
     "name": "stdout",
     "output_type": "stream",
     "text": [
      "ID: 101, Name: Alice, Salary: 50000\n",
      "ID: 102, Name: Bob, Salary: 60000\n",
      "\n",
      "Employee Records:\n",
      "ID: 101, Name: Alice, Salary: 50000\n",
      "ID: 102, Name: Bob, Salary: 60000\n",
      "ID: 101, Name: Alice, Salary: 50000\n",
      "ID: 102, Name: Bob, Salary: 60000\n",
      "ID: 101, Name: Alice, Salary: 50000\n",
      "ID: 102, Name: Bob, Salary: 60000\n"
     ]
    }
   ],
   "source": [
    "# Example usage\n",
    "emp1 = Employee(101, \"Alice\", 50000)\n",
    "emp2 = Employee(102, \"Bob\", 60000)\n",
    "\n",
    "emp1.display()\n",
    "emp2.display()\n",
    "\n",
    "emp1.write_to_file()\n",
    "emp2.write_to_file()\n",
    "\n",
    "Employee.read_from_file()"
   ]
  },
  {
   "cell_type": "markdown",
   "id": "64350a80",
   "metadata": {},
   "source": [
    "Create a class LogAnalyzer that reads a file called log.txt, counts the number of lines that contain \n",
    "the word \"error\" (case-insensitive), and prints the count. Include proper function(s) and file \n",
    "handling. Assume log.txt contains multiple lines. \n",
    " \n",
    "Log.txt: \n",
    "INFO: System initialized successfully \n",
    "ERROR: Failed to connect to the database \n",
    "WARNING: Deprecated function used \n",
    "info: User logged in \n",
    "error: Timeout while connecting to server \n",
    "DEBUG: Memory usage is within limits \n",
    "ERROR: Null pointer exception occurred \n",
    "Warning: Battery level low \n",
    "fatal: System crash detected \n",
    "Error: File not found "
   ]
  },
  {
   "cell_type": "code",
   "execution_count": 53,
   "id": "c8a49ae7",
   "metadata": {},
   "outputs": [
    {
     "name": "stdout",
     "output_type": "stream",
     "text": [
      "Number of error lines: 4\n"
     ]
    }
   ],
   "source": [
    "#created the log file\n",
    "class LogAnalyzer:\n",
    "    def __init__(self, filename=\"Log.txt\"):\n",
    "        self.filename = filename\n",
    "\n",
    "    def count_errors(self):\n",
    "        error_count = 0\n",
    "        try:\n",
    "            with open(self.filename, 'r') as file:\n",
    "                for line in file:\n",
    "                    if \"error\" in line.lower():\n",
    "                        error_count += 1\n",
    "            print(f\"Number of error lines: {error_count}\")\n",
    "        except FileNotFoundError:\n",
    "            print(f\"File '{self.filename}' not found.\")\n",
    "\n",
    "analyzer = LogAnalyzer()\n",
    "analyzer.count_errors()"
   ]
  }
 ],
 "metadata": {
  "kernelspec": {
   "display_name": "Python 3",
   "language": "python",
   "name": "python3"
  },
  "language_info": {
   "codemirror_mode": {
    "name": "ipython",
    "version": 3
   },
   "file_extension": ".py",
   "mimetype": "text/x-python",
   "name": "python",
   "nbconvert_exporter": "python",
   "pygments_lexer": "ipython3",
   "version": "3.10.11"
  }
 },
 "nbformat": 4,
 "nbformat_minor": 5
}
